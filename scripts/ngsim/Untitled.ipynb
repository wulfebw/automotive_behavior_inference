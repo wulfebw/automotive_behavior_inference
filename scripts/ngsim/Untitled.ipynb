{
 "cells": [
  {
   "cell_type": "code",
   "execution_count": 1,
   "metadata": {
    "collapsed": true
   },
   "outputs": [],
   "source": [
    "%matplotlib inline\n",
    "\n",
    "import matplotlib.pyplot as plt\n",
    "import numpy as np\n",
    "\n",
    "import abi.misc.utils"
   ]
  },
  {
   "cell_type": "code",
   "execution_count": 32,
   "metadata": {
    "collapsed": false
   },
   "outputs": [],
   "source": [
    "obs_keys = [\n",
    "    'relative_offset', 'relative_heading', 'velocity', 'length', 'width',\n",
    "    'lane_curvature', 'markerdist_left', 'markerdist_right', 'jerk',\n",
    "    'angular_rate_frenet', 'timegap', 'time_to_collision',\n",
    "    'is_colliding', 'out_of_lane', 'negative_velocity'\n",
    "]\n",
    "nbeams = 20\n",
    "obs_keys += ['lidar_{}'.format(i) for i in range(1, nbeams+1)]\n",
    "obs_keys += ['rangerate_lidar_{}'.format(i) for i in range(1, nbeams+1)]\n",
    "act_keys = ['accel', 'turn_rate_frenet']\n",
    "data = abi.misc.utils.load_data(\n",
    "    filepath='../../data/trajectories/ngsim.h5',\n",
    "    debug_size=None,\n",
    "    mode='ngsim',\n",
    "    min_length=30,\n",
    "    obs_keys=obs_keys,\n",
    "    act_keys=act_keys,\n",
    "    load_y=False,\n",
    "    normalize_data=False\n",
    ")\n",
    "obs = data['obs']\n",
    "act = data['act']\n",
    "lengths = data['lengths']\n",
    "obs_keys = data['obs_keys']\n",
    "act_keys = data['act_keys']\n",
    "max_len = data['max_len']\n",
    "obs_dim = data['obs_dim']\n",
    "act_dim = data['act_dim']\n",
    "val_obs, val_act, val_lengths, val_y = data['val_obs'], data['val_act'], data['val_lengths'], data['val_y']"
   ]
  },
  {
   "cell_type": "code",
   "execution_count": 33,
   "metadata": {
    "collapsed": false
   },
   "outputs": [
    {
     "data": {
      "text/plain": [
       "8884"
      ]
     },
     "execution_count": 33,
     "metadata": {},
     "output_type": "execute_result"
    }
   ],
   "source": [
    "len(obs)"
   ]
  },
  {
   "cell_type": "code",
   "execution_count": 28,
   "metadata": {
    "collapsed": false
   },
   "outputs": [],
   "source": [
    "ttc_idx = [i for (i,n) in enumerate(obs_keys) if 'time_to_collision' == n]\n",
    "ttc = []\n",
    "ttc_thresh = 3.5\n",
    "for i,l in enumerate(lengths):\n",
    "    idxs = np.where(obs[i,:l,ttc_idx] < ttc_thresh)[0]\n",
    "    ttc.append(len(idxs) / l)"
   ]
  },
  {
   "cell_type": "code",
   "execution_count": 29,
   "metadata": {
    "collapsed": false
   },
   "outputs": [
    {
     "data": {
      "text/plain": [
       "(array([  1.91900000e+03,   8.00000000e+00,   2.59000000e+02,\n",
       "          3.81000000e+02,   7.80000000e+01,   2.38000000e+02,\n",
       "          2.57000000e+02,   3.03000000e+02,   1.84000000e+02,\n",
       "          1.55000000e+02,   2.40000000e+02,   1.68000000e+02,\n",
       "          1.30000000e+02,   1.46000000e+02,   1.08000000e+02,\n",
       "          1.07000000e+02,   1.01000000e+02,   8.20000000e+01,\n",
       "          7.70000000e+01,   5.70000000e+01,   7.10000000e+01,\n",
       "          4.60000000e+01,   3.20000000e+01,   4.90000000e+01,\n",
       "          2.80000000e+01,   4.50000000e+01,   2.60000000e+01,\n",
       "          2.50000000e+01,   1.90000000e+01,   9.00000000e+00,\n",
       "          1.80000000e+01,   1.10000000e+01,   1.30000000e+01,\n",
       "          1.20000000e+01,   7.00000000e+00,   1.20000000e+01,\n",
       "          1.00000000e+01,   9.00000000e+00,   1.00000000e+01,\n",
       "          9.00000000e+00,   9.00000000e+00,   4.00000000e+00,\n",
       "          4.00000000e+00,   5.00000000e+00,   0.00000000e+00,\n",
       "          1.00000000e+00,   3.00000000e+00,   2.00000000e+00,\n",
       "          1.00000000e+00,   5.00000000e+00]),\n",
       " array([ 0.   ,  0.004,  0.008,  0.012,  0.016,  0.02 ,  0.024,  0.028,\n",
       "         0.032,  0.036,  0.04 ,  0.044,  0.048,  0.052,  0.056,  0.06 ,\n",
       "         0.064,  0.068,  0.072,  0.076,  0.08 ,  0.084,  0.088,  0.092,\n",
       "         0.096,  0.1  ,  0.104,  0.108,  0.112,  0.116,  0.12 ,  0.124,\n",
       "         0.128,  0.132,  0.136,  0.14 ,  0.144,  0.148,  0.152,  0.156,\n",
       "         0.16 ,  0.164,  0.168,  0.172,  0.176,  0.18 ,  0.184,  0.188,\n",
       "         0.192,  0.196,  0.2  ]),\n",
       " <a list of 50 Patch objects>)"
      ]
     },
     "execution_count": 29,
     "metadata": {},
     "output_type": "execute_result"
    },
    {
     "data": {
      "image/png": "[encoded data removed]",
      "text/plain": [
       "<matplotlib.figure.Figure at 0x10c377240>"
      ]
     },
     "metadata": {},
     "output_type": "display_data"
    }
   ],
   "source": [
    "plt.hist(ttc, 50, range=(0,.2))"
   ]
  },
  {
   "cell_type": "code",
   "execution_count": null,
   "metadata": {
    "collapsed": true
   },
   "outputs": [],
   "source": []
  }
 ],
 "metadata": {
  "anaconda-cloud": {},
  "kernelspec": {
   "display_name": "Python [conda env:riskenv]",
   "language": "python",
   "name": "conda-env-riskenv-py"
  },
  "language_info": {
   "codemirror_mode": {
    "name": "ipython",
    "version": 3
   },
   "file_extension": ".py",
   "mimetype": "text/x-python",
   "name": "python",
   "nbconvert_exporter": "python",
   "pygments_lexer": "ipython3",
   "version": "3.5.2"
  }
 },
 "nbformat": 4,
 "nbformat_minor": 1
}
